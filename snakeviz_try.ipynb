{
 "cells": [
  {
   "cell_type": "code",
   "execution_count": 8,
   "metadata": {
    "collapsed": true,
    "pycharm": {
     "name": "#%%\n"
    }
   },
   "outputs": [
    {
     "name": "stdout",
     "output_type": "stream",
     "text": [
      "The snakeviz extension is already loaded. To reload it, use:\n",
      "  %reload_ext snakeviz\n"
     ]
    }
   ],
   "source": [
    "%load_ext snakeviz\n"
   ]
  },
  {
   "cell_type": "code",
   "execution_count": 8,
   "metadata": {
    "pycharm": {
     "name": "#%%\n"
    }
   },
   "outputs": [],
   "source": []
  },
  {
   "cell_type": "code",
   "execution_count": 9,
   "metadata": {
    "pycharm": {
     "name": "#%%\n"
    }
   },
   "outputs": [],
   "source": [
    "# Code to test visualization\n",
    "import random\n",
    "# Simple function to print messages\n",
    "def print_msg():\n",
    "    for i in range(10):\n",
    "        print(\"Program completed\")\n",
    "\n",
    "# Generate random data\n",
    "def generate():\n",
    "    data = [random.randint(0, 99) for p in range(0, 1000)]\n",
    "    return data\n",
    "\n",
    "# Function to search\n",
    "def search_function(data):\n",
    "    for i in data:\n",
    "        if i in [100,200,300,400,500]:\n",
    "            print(\"success\")\n",
    "\n",
    "def main():\n",
    "    data=generate()\n",
    "    search_function(data)\n",
    "    print_msg()"
   ]
  },
  {
   "cell_type": "code",
   "execution_count": 10,
   "metadata": {
    "pycharm": {
     "name": "#%%\n"
    }
   },
   "outputs": [
    {
     "name": "stdout",
     "output_type": "stream",
     "text": [
      "Program completed\n",
      "Program completed\n",
      "Program completed\n",
      "Program completed\n",
      "Program completed\n",
      "Program completed\n",
      "Program completed\n",
      "Program completed\n",
      "Program completed\n",
      "Program completed\n",
      " \n",
      "*** Profile stats marshalled to file '/var/folders/sd/9sq_fhy14jvdmsklx7t3snqw0000gn/T/tmpy764vlqp'.\n",
      "Embedding SnakeViz in this document...\n"
     ]
    },
    {
     "data": {
      "text/plain": "<IPython.core.display.HTML object>",
      "text/html": "\n<iframe id='snakeviz-9461fa30-47a8-11ed-bd6d-1e00d9117436' frameborder=0 seamless width='100%' height='1000'></iframe>\n<script>document.getElementById(\"snakeviz-9461fa30-47a8-11ed-bd6d-1e00d9117436\").setAttribute(\"src\", \"http://\" + document.location.hostname + \":8080/snakeviz/%2Fvar%2Ffolders%2Fsd%2F9sq_fhy14jvdmsklx7t3snqw0000gn%2FT%2Ftmpy764vlqp\")</script>\n"
     },
     "metadata": {},
     "output_type": "display_data"
    }
   ],
   "source": [
    "%snakeviz main()"
   ]
  },
  {
   "cell_type": "code",
   "execution_count": 10,
   "metadata": {
    "pycharm": {
     "name": "#%%\n"
    }
   },
   "outputs": [],
   "source": []
  }
 ],
 "metadata": {
  "kernelspec": {
   "display_name": "Python 3 (ipykernel)",
   "language": "python",
   "name": "python3"
  },
  "language_info": {
   "codemirror_mode": {
    "name": "ipython",
    "version": 3
   },
   "file_extension": ".py",
   "mimetype": "text/x-python",
   "name": "python",
   "nbconvert_exporter": "python",
   "pygments_lexer": "ipython3",
   "version": "3.8.11"
  }
 },
 "nbformat": 4,
 "nbformat_minor": 1
}